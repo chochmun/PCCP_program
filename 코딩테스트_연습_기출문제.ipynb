{
  "nbformat": 4,
  "nbformat_minor": 0,
  "metadata": {
    "colab": {
      "provenance": [],
      "toc_visible": true
    },
    "kernelspec": {
      "name": "python3",
      "display_name": "Python 3"
    },
    "language_info": {
      "name": "python"
    }
  },
  "cells": [
    {
      "cell_type": "markdown",
      "source": [
        "# 실습문제 01 (시저암호)(String)\n"
      ],
      "metadata": {
        "id": "xAagyY7JJjzq"
      }
    },
    {
      "cell_type": "code",
      "execution_count": null,
      "metadata": {
        "id": "mERY7OWgIwhO"
      },
      "outputs": [],
      "source": [
        "def solution(s, n):\n",
        "    # # 문자-> 아스키코드 변환\n",
        "    # print(ord('A')) # 65\n",
        "    # # 아스키 -> 문자\n",
        "    # print(chr(65)) # A\n",
        "\n",
        "    result = []\n",
        "    for char in s:\n",
        "        # 대문자\n",
        "        if char.isupper():\n",
        "            sc = chr((ord(char) - ord('A') +n)% 26 + ord('A'))\n",
        "            result.append(sc)\n",
        "        elif char.islower():#소문자\n",
        "            sc = chr((ord(char) - ord('a') +n)% 26 + ord('a'))\n",
        "            result.append(sc)\n",
        "        else: # 공백처리\n",
        "            result.append(char)\n",
        "    return \"\".join(result)"
      ]
    },
    {
      "cell_type": "markdown",
      "source": [
        "# 실습 문제 02 (햄버거 만들기)(Array)"
      ],
      "metadata": {
        "id": "DN0284hAOojJ"
      }
    },
    {
      "cell_type": "code",
      "source": [
        "def solution(ingredient):\n",
        "    stack = []\n",
        "    count = 0\n",
        "    pattern = [1,2,3,1]\n",
        "    for item in ingredient:\n",
        "        stack.append(item)\n",
        "        if len(stack) >= 4 and stack[-4:] == pattern:\n",
        "            for _ in range(4):\n",
        "                stack.pop()\n",
        "            count += 1\n",
        "    return count"
      ],
      "metadata": {
        "id": "gBCmuf5LOh2Y"
      },
      "execution_count": null,
      "outputs": []
    },
    {
      "cell_type": "markdown",
      "source": [
        "# 실습문제 03 (튜플)(Sorting)\n"
      ],
      "metadata": {
        "id": "XN7su2coOuGO"
      }
    },
    {
      "cell_type": "markdown",
      "source": [],
      "metadata": {
        "id": "Rh2skPBUTKqO"
      }
    },
    {
      "cell_type": "code",
      "source": [
        "def solution(s):\n",
        "    s = sorted(s[2:-2].split('},{'), key=lambda x:len(x))\n",
        "    answer = []\n",
        "    seen = set()# 이미 처리된 데이터\n",
        "    for sub in s:\n",
        "        for num in sub.split(','):\n",
        "            if num not in seen:\n",
        "                seen.add(num)\n",
        "                answer.append(int(num))\n",
        "    return answer"
      ],
      "metadata": {
        "id": "NpNK53PoTLVI"
      },
      "execution_count": null,
      "outputs": []
    },
    {
      "cell_type": "markdown",
      "source": [
        "# 문제4 옹알이"
      ],
      "metadata": {
        "id": "sL5BMGrlU2uj"
      }
    },
    {
      "cell_type": "markdown",
      "source": [
        "## 풀이1 문자열"
      ],
      "metadata": {
        "id": "goug7cAaU6ir"
      }
    },
    {
      "cell_type": "code",
      "source": [
        "def solution(babbling):\n",
        "    sounds = [\"aya\", \"ye\", \"woo\", \"ma\" ]\n",
        "    count = 0\n",
        "    for word in babbling:\n",
        "        for sound in sounds :\n",
        "            word = word.replace(sound, \" \")\n",
        "        if word.strip() == \"\":\n",
        "            count += 1\n",
        "\n",
        "    return count"
      ],
      "metadata": {
        "id": "FDW45wrjVNSj"
      },
      "execution_count": null,
      "outputs": []
    },
    {
      "cell_type": "markdown",
      "source": [
        "## 풀이2 완전탐색\n",
        "\n",
        "조합, 순열, DFS"
      ],
      "metadata": {
        "id": "GBDp1LuOWBDl"
      }
    },
    {
      "cell_type": "code",
      "source": [
        "from itertools import permutations\n",
        "\n",
        "def solution(babbling):\n",
        "    sounds = [\"aya\", \"ye\", \"woo\", \"ma\" ]\n",
        "\n",
        "    #가능한 문자열의 모든 순열\n",
        "    po_permu = []\n",
        "    for i in range(1, len(sounds)+1):\n",
        "        for perm in permutations(sounds, i):\n",
        "            po_permu.append(\"\".join(perm))\n",
        "\n",
        "    count = 0\n",
        "    for word in babbling:\n",
        "        if word in po_permu:\n",
        "            count += 1\n",
        "    return count"
      ],
      "metadata": {
        "id": "aQmqKwxaWKdq"
      },
      "execution_count": null,
      "outputs": []
    },
    {
      "cell_type": "markdown",
      "source": [
        "## 풀이3 정규표현식\n",
        "\n",
        "r'^(aya|ye|woo|ma)+$'"
      ],
      "metadata": {
        "id": "Cxy6VtZNXfIL"
      }
    },
    {
      "cell_type": "code",
      "source": [
        "import re\n",
        "\n",
        "def solution(babbling):\n",
        "    sounds = [\"aya\", \"ye\", \"woo\", \"ma\" ]\n",
        "    count = 0\n",
        "    pattern = re.compile(r'^(aya|ye|woo|ma)+$')\n",
        "\n",
        "    for word in babbling:\n",
        "        if pattern.match(word):\n",
        "            for p in sounds:\n",
        "                if word.count(p) > 1:\n",
        "                    break\n",
        "            else:\n",
        "                count += 1\n",
        "    return count"
      ],
      "metadata": {
        "id": "DnoEo6JPXzbS"
      },
      "execution_count": null,
      "outputs": []
    },
    {
      "cell_type": "markdown",
      "source": [
        "# 문제5 디펜스 게임 우선순위큐, 그리디"
      ],
      "metadata": {
        "id": "9VcpsCQ8cW94"
      }
    },
    {
      "cell_type": "code",
      "source": [
        "import heapq\n",
        "\n",
        "def solution(n, k, enemy):\n",
        "    pq = []\n",
        "    if len(enemy) <= k:\n",
        "        return len(enemy)\n",
        "    answer = k\n",
        "    for i in range(k):\n",
        "        heapq.heappush(pq, enemy[i])\n",
        "    for i in range(k,len(enemy)):\n",
        "        heapq.heappush(pq, enemy[i])\n",
        "        n -= heapq.heappop(pq)\n",
        "        if n < 0:\n",
        "            return answer\n",
        "        else:\n",
        "            answer += 1\n",
        "    return answer"
      ],
      "metadata": {
        "id": "yv4yG_yRccV0"
      },
      "execution_count": null,
      "outputs": []
    },
    {
      "cell_type": "markdown",
      "source": [
        "# 문제6 구명보트 그리디"
      ],
      "metadata": {
        "id": "nxlsXn6Bgaun"
      }
    },
    {
      "cell_type": "code",
      "source": [
        "def solution(people, limit):\n",
        "    people.sort()\n",
        "    left, right = 0, len(people)-1\n",
        "    boats = 0\n",
        "\n",
        "    while left <= right:\n",
        "        # 제일 가벼운사람 + 제일 무거운 사람\n",
        "        if people[left] + people[right] <= limit :\n",
        "            left += 1\n",
        "        right -= 1\n",
        "        boats += 1\n",
        "    return boats"
      ],
      "metadata": {
        "id": "FS4xFincgfQL"
      },
      "execution_count": null,
      "outputs": []
    },
    {
      "cell_type": "markdown",
      "source": [
        "# 문제7 괄호 유효성 검사"
      ],
      "metadata": {
        "id": "VV3yuPmDim1j"
      }
    },
    {
      "cell_type": "code",
      "source": [
        "# 괄호 유효성 검사 함수 정의\n",
        "# 여는 괄호가 나오면 스택 넣고, 닫는 괄호가 나오면 스택 빼고 쌍이 맞는지 확인\n",
        "def is_valid(s):\n",
        "    stack = []\n",
        "    # 닫는 괄호 키, 여는 괄호 값\n",
        "    b_pairs = {')':'(','}':'{',']':'['}\n",
        "    for char in s:\n",
        "        if char in b_pairs.values():# 여는 괄호\n",
        "            stack.append(char)\n",
        "        elif char in b_pairs.keys():# 닫는 괄호\n",
        "            if stack == [] or stack.pop() != b_pairs[char]:\n",
        "                return False\n",
        "        else:\n",
        "             continue\n",
        "    return stack == [] # len(stack) == 0 # 다 체크 한후 스택이 비었으면 True\n",
        "\n",
        "def solution(s):\n",
        "    count = 0\n",
        "    for i in range(len(s)):\n",
        "        #회전된 문자열\n",
        "        rotated_s = s[i:]+s[:i]\n",
        "        if is_valid(rotated_s) :\n",
        "            count += 1\n",
        "    return count"
      ],
      "metadata": {
        "id": "vXGl8Y1diDi-"
      },
      "execution_count": null,
      "outputs": []
    },
    {
      "cell_type": "markdown",
      "source": [
        "# 문제 8  프로세스 큐"
      ],
      "metadata": {
        "id": "xGnOBjJDmWJb"
      }
    },
    {
      "cell_type": "code",
      "source": [
        "def solution(priorities, location):\n",
        "    # 인덱스 이름 가정, 인덱스, 우선순위 튜풀 묶어 큐 저장\n",
        "    queue = [(i, p) for i , p in enumerate(priorities)]\n",
        "    answer = 0\n",
        "    while queue:\n",
        "        cur = queue.pop(0)\n",
        "        if any(cur[1] < q[1] for q in queue):# any 괄호안의 조건이 하나라도 참이면 참\n",
        "            queue.append(cur)\n",
        "        else:\n",
        "            answer += 1\n",
        "            if cur[0] == location:\n",
        "                return answer\n",
        ""
      ],
      "metadata": {
        "id": "SRHIZkXFmVYf"
      },
      "execution_count": null,
      "outputs": []
    },
    {
      "cell_type": "markdown",
      "source": [
        "# 문제 9"
      ],
      "metadata": {
        "id": "p7hPa35QnnId"
      }
    },
    {
      "cell_type": "code",
      "source": [
        "# 날짜 문자열을 연, 월, 일로 구성된 튜플로 변환하는 함수\n",
        "def date_con(date_str):\n",
        "    # 'YYYY.MM.DD' 형식의 문자열을 '.'으로 나누어 연, 월, 일 부분을 정수로 변환\n",
        "    yyyy, mm, dd = map(int, date_str.split('.'))\n",
        "    return yyyy, mm, dd\n",
        "\n",
        "# 주어진 날짜에 몇 개월을 더하는 함수\n",
        "def add_month(date, month):\n",
        "    yyyy, mm, dd = date  # 날짜 튜플을 연, 월, 일로 분해\n",
        "    mm += month  # 월에 입력받은 개월 수를 더함\n",
        "    while mm > 12:  # 월 수가 12를 초과하면 연도를 증가\n",
        "        mm -= 12\n",
        "        yyyy += 1\n",
        "    return yyyy, mm, dd  # 수정된 날짜 튜플 반환\n",
        "\n",
        "# 주어진 조건을 바탕으로 만료된 개인정보를 찾는 함수\n",
        "def solution(today, terms, privacies):\n",
        "    today = date_con(today)  # 오늘 날짜를 튜플로 변환\n",
        "\n",
        "    # 약관 종류와 유효기간을 저장할 딕셔너리 생성\n",
        "    term_dict = {}\n",
        "    for term in terms:\n",
        "        t_type, duration = term.split()  # 약관 종류와 기간을 분리\n",
        "        term_dict[t_type] = int(duration)  # 약관 종류를 키로, 유효기간을 값으로 딕셔너리에 저장\n",
        "    print(term_dict)\n",
        "    expires = []  # 만료된 정보의 인덱스를 저장할 리스트\n",
        "\n",
        "    # 개인정보 목록 순회\n",
        "    for i, privacy in enumerate(privacies):\n",
        "        col_date, t_type = privacy.split()  # 개인정보 수집 날짜와 약관 종류 분리\n",
        "        col_date = date_con(col_date)  # 수집 날짜를 튜플로 변환\n",
        "        t_dur_mm = term_dict[t_type]  # 해당 약관의 유효기간을 정수로 변환\n",
        "\n",
        "        # 만료 날짜 계산\n",
        "        expire_date = add_month(col_date, t_dur_mm)\n",
        "\n",
        "        # 만료 날짜가 오늘 날짜 이전인 경우, 리스트에 추가\n",
        "        if expire_date <= today:\n",
        "            expires.append(i + 1)  # 리스트에는 인덱스가 1부터 시작하도록 설정\n",
        "\n",
        "    return expires  # 만료된 개인정보의 인덱스 리스트 반환\n",
        "\n",
        "# 예시 실행\n",
        "today = \"2022.05.19\"\n",
        "terms = [\"A 6\", \"B 12\", \"C 3\"]\n",
        "privacies = [\"2021.05.02 A\", \"2021.07.01 B\", \"2022.02.19 C\", \"2022.02.20 C\"]\n",
        "print(solution(today, terms, privacies))  # [1, 3]\n"
      ],
      "metadata": {
        "id": "vVVOvTFgnpZl"
      },
      "execution_count": null,
      "outputs": []
    },
    {
      "cell_type": "markdown",
      "source": [
        "# 문제10 타켓넘버"
      ],
      "metadata": {
        "id": "jDHDhdQtnqVG"
      }
    },
    {
      "cell_type": "code",
      "source": [
        "def solution(numbers, target):\n",
        "    def dfs(index, cur_sum):\n",
        "        if index == len(numbers):\n",
        "            if cur_sum == target:\n",
        "                nonlocal count\n",
        "                count += 1\n",
        "            return\n",
        "        #더하기\n",
        "        dfs(index+1, cur_sum+numbers[index])\n",
        "        #빼기\n",
        "        dfs(index+1, cur_sum-numbers[index])\n",
        "\n",
        "    count = 0\n",
        "    dfs(0,0) # DFS 처리 함수 ,인덱스, sum\n",
        "    return count"
      ],
      "metadata": {
        "id": "4U0Oxh0cnuuE"
      },
      "execution_count": null,
      "outputs": []
    },
    {
      "cell_type": "markdown",
      "source": [
        "# 문제11 미로탈출"
      ],
      "metadata": {
        "id": "MPDVHVsRnvGh"
      }
    },
    {
      "cell_type": "code",
      "source": [
        "from collections import deque\n",
        "\n",
        "def bfs(maps, start, end):\n",
        "    queue = deque([start])\n",
        "    visited = set([start])\n",
        "    # 이동가능한 방향\n",
        "    dir = [(1,0), (-1, 0), (0,1), (0,-1)]\n",
        "    rows, cols = len(maps), len(maps[0])\n",
        "    distance = 0\n",
        "    while queue:\n",
        "        for _ in range(len(queue)): # 현재 레벨의 모드 노드 탐색\n",
        "            x,y = queue.popleft()\n",
        "            if (x, y) == end: # 목표지점 도착했는지\n",
        "                return distance\n",
        "            for dx, dy in dir:\n",
        "                nx, ny = x+dx, y+dy\n",
        "                # 이동가능한지 체크\n",
        "                if 0 <= nx < rows and 0 <= ny < cols and (nx, ny) not in visited and maps[nx][ny] !='X':\n",
        "                    queue.append((nx, ny))\n",
        "                    visited.add((nx, ny))\n",
        "        distance += 1\n",
        "    return -1\n",
        "\n",
        "def solution(maps):\n",
        "    # 시작위치, 레버위치, 출구위치 찾기\n",
        "    start, lever, end = None, None,None # 튜플(x, y)\n",
        "    for i in range(len(maps)): # 행\n",
        "        for j in range(len(maps[0])): # 열\n",
        "            if maps[i][j] == 'S':\n",
        "                start = (i, j)\n",
        "            elif maps[i][j] == 'L':\n",
        "                lever = (i, j)\n",
        "            elif maps[i][j] == 'E':\n",
        "                end = (i, j)\n",
        "\n",
        "    # start ~ level 최단거리\n",
        "    start_lever = bfs(maps, start, lever)\n",
        "    if start_lever == -1:\n",
        "        return -1\n",
        "    # lever ~ end 최단거리\n",
        "    lever_end = bfs(maps, lever, end)\n",
        "    if lever_end == -1:\n",
        "        return -1\n",
        "\n",
        "    return start_lever + lever_end"
      ],
      "metadata": {
        "id": "4z0hlDzynypF"
      },
      "execution_count": null,
      "outputs": []
    },
    {
      "cell_type": "markdown",
      "source": [
        "# 기출 1 붕대감기"
      ],
      "metadata": {
        "id": "88KLw1sS2oyt"
      }
    },
    {
      "cell_type": "code",
      "source": [
        "def solution(bandage, health, attacks):\n",
        "    t, x, y = bandage\n",
        "    c_health = health\n",
        "    c_time = 0 # 현재시간\n",
        "    s_time = 0 # 연속성공시간\n",
        "    a_idx = 0 # 처리할 공격의 인덱스\n",
        "\n",
        "    while c_time <= attacks[-1][0]:\n",
        "        # 현재 시간에 발생한 공격 처리\n",
        "        if a_idx < len(attacks) and c_time == attacks[a_idx][0]:\n",
        "            c_health -= attacks[a_idx][1]\n",
        "            if c_health <= 0 :\n",
        "                return -1\n",
        "            s_time = 0\n",
        "            a_idx += 1\n",
        "        else: # 붕대감기\n",
        "            c_health = min(c_health + x, health)\n",
        "            s_time +=1\n",
        "            if s_time == t:\n",
        "                c_health = min(c_health + y, health)\n",
        "                s_time = 0\n",
        "\n",
        "        c_time +=1\n",
        "    return c_health"
      ],
      "metadata": {
        "id": "ZYei_vQp2sgx"
      },
      "execution_count": null,
      "outputs": []
    },
    {
      "cell_type": "markdown",
      "source": [
        "# 기출2 석유 시추"
      ],
      "metadata": {
        "id": "EFf3jdth5o0s"
      }
    },
    {
      "cell_type": "code",
      "source": [
        "from collections import deque\n",
        "\n",
        "def solution(land):\n",
        "    n,m = len(land), len(land[0])\n",
        "    visited = [[False] * m for _ in range(n)]\n",
        "    dxy = [(0,1), (0, -1), (1,0), (-1,0)]\n",
        "    oil = [] # 석유정보[({열정보},석유량),..]\n",
        "    c_oil = [0] * m # [8, 8, 7, ...] 열당 석유량\n",
        "\n",
        "    def bfs():\n",
        "        pass\n",
        "\n",
        "    for x in range(n):\n",
        "        for y in range(m):\n",
        "            if land[x][y] and not visited[x][y]:\n",
        "                oil.append(bfs(x, y))\n",
        "    # 저장된 석유량 탐색 ######\n",
        "\n",
        "\n",
        "\n",
        "\n",
        "    return answer"
      ],
      "metadata": {
        "id": "ot8wPxUL5nlY"
      },
      "execution_count": null,
      "outputs": []
    }
  ]
}